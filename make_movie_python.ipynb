{
 "cells": [
  {
   "cell_type": "code",
   "execution_count": 1,
   "metadata": {},
   "outputs": [],
   "source": [
    "import os\n",
    "import cv2\n",
    "import glob"
   ]
  },
  {
   "cell_type": "code",
   "execution_count": 2,
   "metadata": {},
   "outputs": [],
   "source": [
    "fps = 10\n",
    "foldername = \"DAH_Lipid_Bilayer_1_persimg\"\n",
    "output_file_name = \"DAH_Lipid_Bilayer_1.avi\"\n",
    "\n",
    "path = foldername + os.sep + \"*.png\""
   ]
  },
  {
   "cell_type": "code",
   "execution_count": 3,
   "metadata": {},
   "outputs": [],
   "source": [
    "fnames = []\n",
    "for filepath in sorted(glob.glob(path)):\n",
    "    fname = filepath.split(os.sep)[1]\n",
    "    basename = fname.split(\".\")[0]\n",
    "    fnames.append(int(basename))\n",
    "fnames.sort()"
   ]
  },
  {
   "cell_type": "code",
   "execution_count": 4,
   "metadata": {},
   "outputs": [],
   "source": [
    "video = None\n",
    "vInit = False\n",
    "\n",
    "for fn in fnames:\n",
    "    \n",
    "    filepath = foldername + os.sep + repr(fn) + \".png\"\n",
    "    \n",
    "    if vInit == False:\n",
    "        \n",
    "        img = cv2.imread(filepath)\n",
    "        height, width, layers = img.shape\n",
    "\n",
    "        fourcc = cv2.VideoWriter_fourcc('m', 'p', '4', 'v')\n",
    "        video = cv2.VideoWriter(output_file_name, fourcc, fps, (width, height), True)\n",
    "\n",
    "        video.write(img)\n",
    "        vInit = True\n",
    "\n",
    "    else:\n",
    "        \n",
    "        video.write(cv2.imread(filepath))\n",
    "        \n",
    "if video is not None:\n",
    "    \n",
    "    cv2.destroyAllWindows()\n",
    "    video.release()"
   ]
  },
  {
   "cell_type": "code",
   "execution_count": null,
   "metadata": {},
   "outputs": [],
   "source": [
    "!ffmpeg -i DAH_Lipid_Bilayer_1.avi DAH_Lipid_Bilayer_1.mp4"
   ]
  }
 ],
 "metadata": {
  "@webio": {
   "lastCommId": "9c97849a025c415b81d05effce545e6f",
   "lastKernelId": "22d1b4f7-797e-4b1e-be2d-3de3ebdb13e6"
  },
  "kernelspec": {
   "display_name": "PY 36 (Plotly)",
   "language": "python",
   "name": "py36_plotly"
  },
  "language_info": {
   "codemirror_mode": {
    "name": "ipython",
    "version": 3
   },
   "file_extension": ".py",
   "mimetype": "text/x-python",
   "name": "python",
   "nbconvert_exporter": "python",
   "pygments_lexer": "ipython3",
   "version": "3.6.10"
  }
 },
 "nbformat": 4,
 "nbformat_minor": 2
}
