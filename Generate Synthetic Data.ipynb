{
 "cells": [
  {
   "cell_type": "code",
   "execution_count": 4,
   "metadata": {},
   "outputs": [],
   "source": [
    "using MAT\n",
    "using PyPlot\n",
    "using Random\n",
    "using PyCall\n",
    "using Statistics\n",
    "using Distributions\n",
    "using DelimitedFiles"
   ]
  },
  {
   "cell_type": "code",
   "execution_count": 40,
   "metadata": {},
   "outputs": [],
   "source": [
    "function generate_complete_sorting(num_red, num_green, num_r_cluster, num_g_cluster, seed)\n",
    "    \n",
    "    Random.seed!(seed);\n",
    "    \n",
    "    # place red cells\n",
    "    amountpercluster = [];\n",
    "    cellsleft = num_red\n",
    "    for j in 1:(num_r_cluster - 1)\n",
    "        amounttaken = rand(1:cellsleft);\n",
    "        push!(amountpercluster,amounttaken);\n",
    "        cellsleft  = cellsleft - amounttaken;\n",
    "    end\n",
    "    push!(amountpercluster, cellsleft)\n",
    "    \n",
    "    redcellpos = Array{Float64}(undef, 0, 2);\n",
    "    celltypes = ones(num_red,1);\n",
    "    for i in 1:num_r_cluster\n",
    "        clustercenter = rand(Uniform(-8,8),1,2);\n",
    "        sigma = rand(Uniform(0.1,1),1,2);\n",
    "        distribution = MvNormal(vec(clustercenter),vec(sigma));\n",
    "        clustercells = transpose(rand(distribution,amountpercluster[i]));\n",
    "        redcellpos = vcat(redcellpos,clustercells);\n",
    "    end\n",
    "    \n",
    "    # place green cells\n",
    "    amountperclusterg = [];\n",
    "    cellsleft = num_green\n",
    "    for j in 1:(num_g_cluster - 1)\n",
    "        amounttaken = rand(1:cellsleft);\n",
    "        push!(amountperclusterg,amounttaken);\n",
    "        cellsleft  = cellsleft - amounttaken;\n",
    "    end\n",
    "    push!(amountperclusterg, cellsleft)\n",
    "    greencellpos = Array{Float64}(undef, 0, 2)\n",
    "\n",
    "    for i in 1:num_g_cluster\n",
    "        clustercenter = rand(Uniform(-8,8),1,2);\n",
    "        sigma = rand(Uniform(0.1,1),1,2);\n",
    "        distribution = MvNormal(vec(clustercenter),vec(sigma));\n",
    "        clustercells = transpose(rand(distribution,amountperclusterg[i]));\n",
    "        greencellpos = vcat(greencellpos,clustercells);\n",
    "    end\n",
    "    \n",
    "    cellpos = vcat(redcellpos,greencellpos);\n",
    "    celltypes = vcat(celltypes, (ones(num_green,1)+ones(num_green,1)));\n",
    "    file = matopen(\"complete_separation_pos.mat\", \"w\");\n",
    "    write(file, \"positions\", cellpos)\n",
    "    close(file)\n",
    "    file2 = matopen(\"complete_separation_types.mat\", \"w\");\n",
    "    write(file2, \"types\", celltypes)\n",
    "    close(file2)\n",
    "    \n",
    "    return (cellpos, celltypes);\n",
    "    \n",
    "end\n",
    "\n",
    "function plot_syn_data(cell_pos, cell_type)\n",
    "    \n",
    "    figure(figsize=(5,5), dpi=200)\n",
    "    num_cells = size(cell_type)[1]\n",
    "    for cid in range(1, stop=num_cells)\n",
    "        if cell_type[cid] == 1.0\n",
    "            scatter(cell_pos[cid,1], cell_pos[cid,2], color=\"red\")\n",
    "        elseif cell_type[cid] == 2\n",
    "            scatter(cell_pos[cid,1], cell_pos[cid,2], color=\"green\")\n",
    "        else\n",
    "            scatter(cell_pos[cid,1], cell_pos[cid,2], color=\"blue\")\n",
    "            write(stderr, \"WARNING: More than 2 cell types\")\n",
    "        end                \n",
    "    end\n",
    "    xlim([-10, 10])\n",
    "    ylim([-10, 10])\n",
    "    xticks([])\n",
    "    yticks([])\n",
    "    \n",
    "end;"
   ]
  },
  {
   "cell_type": "code",
   "execution_count": 41,
   "metadata": {},
   "outputs": [
    {
     "data": {
      "image/png": "[encoded data removed]",
      "text/plain": [
       "Figure(PyObject <matplotlib.figure.Figure object at 0x7f5dd7063e10>)"
      ]
     },
     "metadata": {},
     "output_type": "display_data"
    }
   ],
   "source": [
    "(cell_pos, cell_types) = generate_complete_sorting(100, 150, 1, 2, 123)\n",
    "plot_syn_data(cell_pos, cell_types);"
   ]
  },
  {
   "cell_type": "code",
   "execution_count": 51,
   "metadata": {},
   "outputs": [
    {
     "data": {
      "image/png": "[encoded data removed]",
      "text/plain": [
       "Figure(PyObject <matplotlib.figure.Figure object at 0x7f5dd382b208>)"
      ]
     },
     "metadata": {},
     "output_type": "display_data"
    }
   ],
   "source": [
    "(cell_pos, cell_types) = generate_complete_sorting(100, 500, 1, 5, 31337)\n",
    "plot_syn_data(cell_pos, cell_types);"
   ]
  },
  {
   "cell_type": "code",
   "execution_count": null,
   "metadata": {},
   "outputs": [],
   "source": []
  }
 ],
 "metadata": {
  "@webio": {
   "lastCommId": "8e080fc6b2e7435c9896ae6278fd2c69",
   "lastKernelId": "81e78d8c-8572-4eab-9ca9-848a3d0ed589"
  },
  "kernelspec": {
   "display_name": "Julia 1.3.1",
   "language": "julia",
   "name": "julia-1.3"
  },
  "language_info": {
   "file_extension": ".jl",
   "mimetype": "application/julia",
   "name": "julia",
   "version": "1.3.1"
  }
 },
 "nbformat": 4,
 "nbformat_minor": 2
}
